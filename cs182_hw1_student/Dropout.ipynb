{
 "cells": [
  {
   "cell_type": "markdown",
   "metadata": {},
   "source": [
    "# Dropout\n",
    "Dropout [1] is a technique for regularizing neural networks by randomly setting some features to zero during the forward pass. In this exercise you will implement a dropout layer and modify your fully-connected network to optionally use dropout.\n",
    "\n",
    "[1] Geoffrey E. Hinton et al, \"Improving neural networks by preventing co-adaptation of feature detectors\", arXiv 2012"
   ]
  },
  {
   "cell_type": "code",
   "execution_count": 4,
   "metadata": {
    "collapsed": true
   },
   "outputs": [
    {
     "name": "stdout",
     "output_type": "stream",
     "text": [
      "The autoreload extension is already loaded. To reload it, use:\n",
      "  %reload_ext autoreload\n"
     ]
    }
   ],
   "source": [
    "# As usual, a bit of setup\n",
    "\n",
    "import time\n",
    "import numpy as np\n",
    "import matplotlib.pyplot as plt\n",
    "from deeplearning.classifiers.fc_net import *\n",
    "from deeplearning.data_utils import get_CIFAR10_data\n",
    "from deeplearning.gradient_check import eval_numerical_gradient, eval_numerical_gradient_array\n",
    "from deeplearning.solver import Solver\n",
    "import random \n",
    "import torch\n",
    "seed = 124\n",
    "torch.manual_seed(seed)\n",
    "random.seed(seed)\n",
    "np.random.seed(seed)\n",
    "\n",
    "%matplotlib inline\n",
    "plt.rcParams['figure.figsize'] = (10.0, 8.0) # set default size of plots\n",
    "plt.rcParams['image.interpolation'] = 'nearest'\n",
    "plt.rcParams['image.cmap'] = 'gray'\n",
    "\n",
    "# for auto-reloading external modules\n",
    "# see http://stackoverflow.com/questions/1907993/autoreload-of-modules-in-ipython\n",
    "%load_ext autoreload\n",
    "%autoreload 2\n",
    "\n",
    "def rel_error(x, y):\n",
    "    \"\"\" returns relative error \"\"\"\n",
    "    return np.max(np.abs(x - y) / (np.maximum(1e-8, np.abs(x) + np.abs(y))))"
   ]
  },
  {
   "cell_type": "code",
   "execution_count": 3,
   "metadata": {},
   "outputs": [
    {
     "name": "stdout",
     "output_type": "stream",
     "text": [
      "deeplearning/datasets/cifar-10-batches-py/data_batch_1\n",
      "deeplearning/datasets/cifar-10-batches-py/data_batch_2\n",
      "deeplearning/datasets/cifar-10-batches-py/data_batch_3\n",
      "deeplearning/datasets/cifar-10-batches-py/data_batch_4\n",
      "deeplearning/datasets/cifar-10-batches-py/data_batch_5\n",
      "deeplearning/datasets/cifar-10-batches-py/test_batch\n",
      "X_train:  (49000, 3, 32, 32)\n",
      "y_train:  (49000,)\n",
      "X_val:  (1000, 3, 32, 32)\n",
      "y_val:  (1000,)\n",
      "X_test:  (1000, 3, 32, 32)\n",
      "y_test:  (1000,)\n"
     ]
    }
   ],
   "source": [
    "# Load the (preprocessed) CIFAR10 data.\n",
    "\n",
    "data = get_CIFAR10_data()\n",
    "for k, v in data.items():\n",
    "    print ('%s: ' % k, v.shape)"
   ]
  },
  {
   "cell_type": "markdown",
   "metadata": {},
   "source": [
    "# Dropout forward pass\n",
    "In the file `deeplearning/layers.py`, implement the forward pass for dropout. Since dropout behaves differently during training and testing, make sure to implement the operation for both modes. Input means should be approximately the same as the output means at both train/test time.\n",
    "\n",
    "Once you have done so, run the cell below to test your implementation."
   ]
  },
  {
   "cell_type": "code",
   "execution_count": 69,
   "metadata": {},
   "outputs": [
    {
     "name": "stdout",
     "output_type": "stream",
     "text": [
      "Running tests with p =  0.3\n",
      "Mean of input:  10.000354157751218\n",
      "Mean of train-time output:  9.996084799496874\n",
      "Mean of test-time output:  10.000354157751218\n",
      "Fraction of train-time output set to zero:  0.300244\n",
      "Fraction of test-time output set to zero:  0.0\n",
      "Running tests with p =  0.6\n",
      "Mean of input:  10.000354157751218\n",
      "Mean of train-time output:  10.032920358846237\n",
      "Mean of test-time output:  10.000354157751218\n",
      "Fraction of train-time output set to zero:  0.598604\n",
      "Fraction of test-time output set to zero:  0.0\n",
      "Running tests with p =  0.75\n",
      "Mean of input:  10.000354157751218\n",
      "Mean of train-time output:  9.990597766737519\n",
      "Mean of test-time output:  10.000354157751218\n",
      "Fraction of train-time output set to zero:  0.750288\n",
      "Fraction of test-time output set to zero:  0.0\n"
     ]
    }
   ],
   "source": [
    "x = np.random.randn(500, 500) + 10\n",
    "\n",
    "for p in [0.3, 0.6, 0.75]:\n",
    "    out, _ = dropout_forward(x, {'mode': 'train', 'p': p})\n",
    "    out_test, _ = dropout_forward(x, {'mode': 'test', 'p': p})\n",
    "\n",
    "    print ('Running tests with p = ', p)\n",
    "    print ('Mean of input: ', x.mean())\n",
    "    print ('Mean of train-time output: ', out.mean())\n",
    "    print ('Mean of test-time output: ', out_test.mean())\n",
    "    print ('Fraction of train-time output set to zero: ', (out == 0).mean())\n",
    "    print ('Fraction of test-time output set to zero: ', (out_test == 0).mean())\n",
    "    print"
   ]
  },
  {
   "cell_type": "markdown",
   "metadata": {},
   "source": [
    "# Dropout backward pass\n",
    "In the file `deeplearning/layers.py`, implement the backward pass for dropout. After doing so, run the following cell to numerically gradient-check your implementation."
   ]
  },
  {
   "cell_type": "code",
   "execution_count": 70,
   "metadata": {},
   "outputs": [
    {
     "name": "stdout",
     "output_type": "stream",
     "text": [
      "dx relative error:  1.8929030422479734e-11\n"
     ]
    }
   ],
   "source": [
    "x = np.random.randn(10, 10) + 10\n",
    "dout = np.random.randn(*x.shape)\n",
    "\n",
    "dropout_param = {'mode': 'train', 'p': 0.8, 'seed': 123}\n",
    "out, cache = dropout_forward(x, dropout_param)\n",
    "dx = dropout_backward(dout, cache)\n",
    "dx_num = eval_numerical_gradient_array(lambda xx: dropout_forward(xx, dropout_param)[0], x, dout)\n",
    "print ('dx relative error: ', rel_error(dx, dx_num))"
   ]
  },
  {
   "cell_type": "markdown",
   "metadata": {},
   "source": [
    "# Fully-connected nets with Dropout\n",
    "In the file `deeplearning/classifiers/fc_net.py`, modify your implementation to use dropout. Specificially, if the constructor the the net receives a nonzero value for the `dropout` parameter, then the net should add dropout immediately after every ReLU nonlinearity. After doing so, run the following to numerically gradient-check your implementation."
   ]
  },
  {
   "cell_type": "code",
   "execution_count": 81,
   "metadata": {},
   "outputs": [
    {
     "name": "stdout",
     "output_type": "stream",
     "text": [
      "Running check with dropout =  0\n",
      "Initial loss:  2.301458657559781\n",
      "W1 relative error: 7.37e-07\n",
      "W2 relative error: 1.17e-06\n",
      "W3 relative error: 3.42e-08\n",
      "b1 relative error: 7.11e-08\n",
      "b2 relative error: 4.09e-09\n",
      "b3 relative error: 8.76e-11\n",
      "Running check with dropout =  0.25\n",
      "Initial loss:  2.303905691864604\n",
      "W1 relative error: 2.69e-07\n",
      "W2 relative error: 5.28e-07\n",
      "W3 relative error: 1.40e-07\n",
      "b1 relative error: 1.44e-08\n",
      "b2 relative error: 6.86e-09\n",
      "b3 relative error: 7.16e-11\n",
      "Running check with dropout =  0.5\n",
      "Initial loss:  2.3002972240845354\n",
      "W1 relative error: 7.06e-08\n",
      "W2 relative error: 1.20e-07\n",
      "W3 relative error: 1.14e-08\n",
      "b1 relative error: 1.89e-09\n",
      "b2 relative error: 1.49e-09\n",
      "b3 relative error: 1.41e-10\n"
     ]
    }
   ],
   "source": [
    "N, D, H1, H2, C = 2, 15, 20, 30, 10\n",
    "X = np.random.randn(N, D)\n",
    "y = np.random.randint(C, size=(N,))\n",
    "\n",
    "for dropout in [0, 0.25, 0.5]:\n",
    "    print ('Running check with dropout = ', dropout)\n",
    "    model = FullyConnectedNet([H1, H2], input_dim=D, num_classes=C,\n",
    "                            weight_scale=5e-2, dtype=np.float64,\n",
    "                            dropout=dropout, seed=123)\n",
    "    \n",
    "    loss, grads = model.loss(X, y)\n",
    "    print ('Initial loss: ', loss)\n",
    "\n",
    "    for name in sorted(grads):\n",
    "        f = lambda _: model.loss(X, y)[0]\n",
    "        grad_num = eval_numerical_gradient(f, model.params[name], verbose=False, h=1e-5)\n",
    "        print ('%s relative error: %.2e' % (name, rel_error(grad_num, grads[name])))\n",
    "    print"
   ]
  },
  {
   "cell_type": "markdown",
   "metadata": {},
   "source": [
    "# Regularization experiment\n",
    "As an experiment, we will train a pair of two-layer networks on 500 training examples: one will use no dropout, and one will use a dropout probability of 0.75. We will then visualize the training and validation accuracies of the two networks over time."
   ]
  },
  {
   "cell_type": "code",
   "execution_count": 82,
   "metadata": {
    "scrolled": false
   },
   "outputs": [
    {
     "name": "stdout",
     "output_type": "stream",
     "text": [
      "0\n",
      "(Iteration 1 / 125) loss: 8.596245\n",
      "(Epoch 0 / 25) train acc: 0.224000; val_acc: 0.183000\n",
      "(Epoch 1 / 25) train acc: 0.382000; val_acc: 0.219000\n",
      "(Epoch 2 / 25) train acc: 0.484000; val_acc: 0.248000\n",
      "(Epoch 3 / 25) train acc: 0.620000; val_acc: 0.275000\n",
      "(Epoch 4 / 25) train acc: 0.654000; val_acc: 0.246000\n",
      "(Epoch 5 / 25) train acc: 0.724000; val_acc: 0.280000\n",
      "(Epoch 6 / 25) train acc: 0.788000; val_acc: 0.301000\n",
      "(Epoch 7 / 25) train acc: 0.814000; val_acc: 0.260000\n",
      "(Epoch 8 / 25) train acc: 0.838000; val_acc: 0.268000\n",
      "(Epoch 9 / 25) train acc: 0.904000; val_acc: 0.286000\n",
      "(Epoch 10 / 25) train acc: 0.934000; val_acc: 0.292000\n",
      "(Epoch 11 / 25) train acc: 0.962000; val_acc: 0.262000\n",
      "(Epoch 12 / 25) train acc: 0.946000; val_acc: 0.275000\n",
      "(Epoch 13 / 25) train acc: 0.950000; val_acc: 0.287000\n",
      "(Epoch 14 / 25) train acc: 0.932000; val_acc: 0.254000\n",
      "(Epoch 15 / 25) train acc: 0.960000; val_acc: 0.279000\n",
      "(Epoch 16 / 25) train acc: 0.964000; val_acc: 0.300000\n",
      "(Epoch 17 / 25) train acc: 0.986000; val_acc: 0.287000\n",
      "(Epoch 18 / 25) train acc: 0.982000; val_acc: 0.289000\n",
      "(Epoch 19 / 25) train acc: 0.982000; val_acc: 0.285000\n",
      "(Epoch 20 / 25) train acc: 0.996000; val_acc: 0.288000\n",
      "(Iteration 101 / 125) loss: 0.000195\n",
      "(Epoch 21 / 25) train acc: 0.990000; val_acc: 0.289000\n",
      "(Epoch 22 / 25) train acc: 0.992000; val_acc: 0.286000\n",
      "(Epoch 23 / 25) train acc: 0.994000; val_acc: 0.282000\n",
      "(Epoch 24 / 25) train acc: 0.990000; val_acc: 0.283000\n",
      "(Epoch 25 / 25) train acc: 0.996000; val_acc: 0.281000\n",
      "0.75\n",
      "(Iteration 1 / 125) loss: 15.993099\n",
      "(Epoch 0 / 25) train acc: 0.224000; val_acc: 0.177000\n",
      "(Epoch 1 / 25) train acc: 0.358000; val_acc: 0.215000\n",
      "(Epoch 2 / 25) train acc: 0.456000; val_acc: 0.301000\n",
      "(Epoch 3 / 25) train acc: 0.456000; val_acc: 0.264000\n",
      "(Epoch 4 / 25) train acc: 0.532000; val_acc: 0.267000\n",
      "(Epoch 5 / 25) train acc: 0.610000; val_acc: 0.306000\n",
      "(Epoch 6 / 25) train acc: 0.600000; val_acc: 0.276000\n",
      "(Epoch 7 / 25) train acc: 0.638000; val_acc: 0.299000\n",
      "(Epoch 8 / 25) train acc: 0.712000; val_acc: 0.329000\n",
      "(Epoch 9 / 25) train acc: 0.698000; val_acc: 0.305000\n",
      "(Epoch 10 / 25) train acc: 0.712000; val_acc: 0.299000\n",
      "(Epoch 11 / 25) train acc: 0.804000; val_acc: 0.310000\n",
      "(Epoch 12 / 25) train acc: 0.784000; val_acc: 0.324000\n",
      "(Epoch 13 / 25) train acc: 0.786000; val_acc: 0.308000\n",
      "(Epoch 14 / 25) train acc: 0.848000; val_acc: 0.304000\n",
      "(Epoch 15 / 25) train acc: 0.840000; val_acc: 0.312000\n",
      "(Epoch 16 / 25) train acc: 0.882000; val_acc: 0.310000\n",
      "(Epoch 17 / 25) train acc: 0.872000; val_acc: 0.310000\n",
      "(Epoch 18 / 25) train acc: 0.892000; val_acc: 0.304000\n",
      "(Epoch 19 / 25) train acc: 0.828000; val_acc: 0.300000\n",
      "(Epoch 20 / 25) train acc: 0.870000; val_acc: 0.307000\n",
      "(Iteration 101 / 125) loss: 6.225155\n",
      "(Epoch 21 / 25) train acc: 0.862000; val_acc: 0.306000\n",
      "(Epoch 22 / 25) train acc: 0.924000; val_acc: 0.305000\n",
      "(Epoch 23 / 25) train acc: 0.902000; val_acc: 0.308000\n",
      "(Epoch 24 / 25) train acc: 0.896000; val_acc: 0.296000\n",
      "(Epoch 25 / 25) train acc: 0.934000; val_acc: 0.331000\n"
     ]
    }
   ],
   "source": [
    "# Train two identical nets, one with dropout and one without\n",
    "\n",
    "num_train = 500\n",
    "small_data = {\n",
    "  'X_train': data['X_train'][:num_train],\n",
    "  'y_train': data['y_train'][:num_train],\n",
    "  'X_val': data['X_val'],\n",
    "  'y_val': data['y_val'],\n",
    "}\n",
    "\n",
    "solvers = {}\n",
    "dropout_choices = [0, 0.75]\n",
    "for dropout in dropout_choices:\n",
    "    model = FullyConnectedNet([500], dropout=dropout)\n",
    "    print (dropout)\n",
    "\n",
    "    solver = Solver(model, small_data,\n",
    "                  num_epochs=25, batch_size=100,\n",
    "                  update_rule='adam',\n",
    "                  optim_config={\n",
    "                    'learning_rate': 5e-4,\n",
    "                  },\n",
    "                  verbose=True, print_every=100)\n",
    "    solver.train()\n",
    "    solvers[dropout] = solver"
   ]
  },
  {
   "cell_type": "code",
   "execution_count": 83,
   "metadata": {
    "scrolled": true
   },
   "outputs": [
    {
     "data": {
      "image/png": "[encoded data removed]",
      "text/plain": [
       "<Figure size 1500x1500 with 2 Axes>"
      ]
     },
     "metadata": {},
     "output_type": "display_data"
    }
   ],
   "source": [
    "# Plot train and validation accuracies of the two models\n",
    "\n",
    "train_accs = []\n",
    "val_accs = []\n",
    "for dropout in dropout_choices:\n",
    "    solver = solvers[dropout]\n",
    "    train_accs.append(solver.train_acc_history[-1])\n",
    "    val_accs.append(solver.val_acc_history[-1])\n",
    "    solver.record_histories_as_npz('submission_logs/dropout_regularization_experiment_p{}.npz'.format(dropout))\n",
    "\n",
    "plt.subplot(3, 1, 1)\n",
    "for dropout in dropout_choices:\n",
    "    plt.plot(solvers[dropout].train_acc_history, 'o', label='%.2f dropout' % dropout)\n",
    "plt.title('Train accuracy')\n",
    "plt.xlabel('Epoch')\n",
    "plt.ylabel('Accuracy')\n",
    "plt.legend(ncol=2, loc='lower right')\n",
    "  \n",
    "plt.subplot(3, 1, 2)\n",
    "for dropout in dropout_choices:\n",
    "    plt.plot(solvers[dropout].val_acc_history, 'o', label='%.2f dropout' % dropout)\n",
    "plt.title('Val accuracy')\n",
    "plt.xlabel('Epoch')\n",
    "plt.ylabel('Accuracy')\n",
    "plt.legend(ncol=2, loc='lower right')\n",
    "\n",
    "plt.gcf().set_size_inches(15, 15)\n",
    "plt.show()"
   ]
  },
  {
   "cell_type": "markdown",
   "metadata": {},
   "source": [
    "# Question\n",
    "Explain what you see in this experiment. What does it suggest about dropout?"
   ]
  },
  {
   "cell_type": "markdown",
   "metadata": {},
   "source": [
    "# Answer\n",
    "Dropout is a form of regularization which prevents reduces training accuracy and can offer slightly better validation performance."
   ]
  }
 ],
 "metadata": {
  "kernelspec": {
   "display_name": "cs182_hw1",
   "language": "python",
   "name": "python3"
  },
  "language_info": {
   "codemirror_mode": {
    "name": "ipython",
    "version": 3
   },
   "file_extension": ".py",
   "mimetype": "text/x-python",
   "name": "python",
   "nbconvert_exporter": "python",
   "pygments_lexer": "ipython3",
   "version": "3.8.18"
  }
 },
 "nbformat": 4,
 "nbformat_minor": 1
}
